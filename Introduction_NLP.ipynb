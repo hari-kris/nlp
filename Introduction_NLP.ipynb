{
 "cells": [
  {
   "cell_type": "markdown",
   "metadata": {},
   "source": [
    "## Introduction\n",
    "Computer are good at processing numbers, tabular data (matrix) format.​\n",
    "\n",
    "Humans communicate each other language (high level language)​\n",
    "\n",
    "We cannot directly interact with computer and converse with computer with traditional route​\n",
    "\n",
    "Goal of the NLP is to make computer understand what humans Convery (unstructured data)​\n",
    "\n",
    "NLP is also part of AI​\n",
    "\n",
    "Application: Text to Speech, Speech to Text, Summarization, search Engine and Natural Language Generation​"
   ]
  },
  {
   "cell_type": "markdown",
   "metadata": {},
   "source": [
    "## Challenges in NLP\n",
    "There can be several interpretation for the same message\n",
    "\n",
    "can you help me to pass the pass?\n",
    "\n",
    "pass has several meaning depending upon the context\n",
    "\n",
    "pass - a route through the mountain\n",
    "\n",
    "pass - transfer something"
   ]
  },
  {
   "cell_type": "code",
   "execution_count": 1,
   "metadata": {},
   "outputs": [],
   "source": [
    "# Reading the text file in python"
   ]
  },
  {
   "cell_type": "code",
   "execution_count": 4,
   "metadata": {},
   "outputs": [],
   "source": [
    "file_obj = open('immortals_of_meluha.txt')"
   ]
  },
  {
   "cell_type": "code",
   "execution_count": 5,
   "metadata": {},
   "outputs": [],
   "source": [
    "file_content = file_obj.read()"
   ]
  },
  {
   "cell_type": "code",
   "execution_count": 6,
   "metadata": {},
   "outputs": [
    {
     "data": {
      "text/plain": [
       "'After marching continuously for four weeks, the caravan of invited immigrants crested the final mountain to reach the outskirts of Srinagar, the capital of the valley of Kashmir. Nandi had talked excitedly about the glories of his perfect land. Shiva had prepared himself to see some incredible sights, which he could not have imagined in his simple homeland. But nothing could have primed him for the sheer spectacle of what certainly as paradise. Meluha . The land of pure life! he mighty Jhelum river, a roaring tigress in the mountains, slowed down to the beat of  languorous cow as she entered the valley. She caressed the heavenly land of ashmir, meandering her way into the immense Dal Lake. \\n\\nFurther down, she broke way from the lake, continuing her journey to the sea. he vast valley was covered by a lush green canvas of grass. On it was painted the asterpiece that was Kashmir. Rows upon rows of flowers arrayed all of God’s colours, their brilliance broken only by the soaring Chinar trees, offering a majestic, yet warm Kashmiri welcome. The melodious singing of the birds calmed the exhausted ears of Shiva’s tribe, accustomed only to the rude howling of icy mountain winds. ‘If this is the border province, how perfect must the rest of the country be?’ whispered\\nShiva in awe.'"
      ]
     },
     "execution_count": 6,
     "metadata": {},
     "output_type": "execute_result"
    }
   ],
   "source": [
    "file_content"
   ]
  },
  {
   "cell_type": "code",
   "execution_count": 7,
   "metadata": {},
   "outputs": [
    {
     "data": {
      "text/plain": [
       "1292"
      ]
     },
     "execution_count": 7,
     "metadata": {},
     "output_type": "execute_result"
    }
   ],
   "source": [
    "## Length of the File\n",
    "len(file_content)"
   ]
  },
  {
   "cell_type": "code",
   "execution_count": 8,
   "metadata": {},
   "outputs": [
    {
     "data": {
      "text/plain": [
       "str"
      ]
     },
     "execution_count": 8,
     "metadata": {},
     "output_type": "execute_result"
    }
   ],
   "source": [
    "## data type of file content\n",
    "type(file_content)"
   ]
  },
  {
   "cell_type": "markdown",
   "metadata": {},
   "source": [
    "## Tokenization\n",
    "Tokenization is the process by which the words present in the text broken down"
   ]
  },
  {
   "cell_type": "markdown",
   "metadata": {},
   "source": [
    "### Several Types of Tokenization Supported in Elasticsearch\n",
    "\n",
    "A tokenizer receives a stream of characters, breaks it up into individual tokens (usually individual words), and outputs a stream of tokens. For instance, a whitespace tokenizer breaks text into tokens whenever it sees any whitespace. It would convert the text \"Quick brown fox!\" into the terms [Quick, brown, fox!].\n",
    "\n",
    "The tokenizer is also responsible for recording the following:\n",
    "\n",
    "Order or position of each term (used for phrase and word proximity queries)\n",
    "Start and end character offsets of the original word which the term represents (used for highlighting search snippets).\n",
    "Token type, a classification of each term produced, such as <ALPHANUM>, <HANGUL>, or <NUM>. Simpler analyzers only produce the word token type.\n",
    "\n",
    "<li>Standard Tokenizer</li>\n",
    "<li>Letter Tokenizer</li>\n",
    "<li>Lowercase Tokenizer</li>\n",
    "<li>Whitespace Tokenizer</li>\n",
    "<li>UAX URL Email Tokenizer</li>\n",
    "<li>Classic Tokenizer</li>\n",
    "<li>Thai Tokenizer</li>\n",
    "    \n",
    "Reference: https://www.elastic.co/guide/en/elasticsearch/reference/current/analysis-tokenizers.html"
   ]
  },
  {
   "cell_type": "markdown",
   "metadata": {},
   "source": [
    "### Python Tokenization\n",
    "\n",
    "<li>Split</li>\n",
    "<li>Regular Expression</li>\n",
    "<li>Sentense Tokenizer</li>\n",
    "\n",
    "### Library Supporting Tokenization\n",
    "<li>NLTK</li>\n",
    "<li>Spacy></li>\n"
   ]
  },
  {
   "cell_type": "code",
   "execution_count": 16,
   "metadata": {},
   "outputs": [
    {
     "name": "stdout",
     "output_type": "stream",
     "text": [
      "['After', 'marching', 'continuously', 'for', 'four', 'weeks,', 'the', 'caravan', 'of', 'invited', 'immigrants', 'crested', 'the', 'final', 'mountain', 'to', 'reach', 'the', 'outskirts', 'of', 'Srinagar,', 'the', 'capital', 'of', 'the', 'valley', 'of', 'Kashmir.', 'Nandi', 'had', 'talked', 'excitedly', 'about', 'the', 'glories', 'of', 'his', 'perfect', 'land.', 'Shiva', 'had', 'prepared', 'himself', 'to', 'see', 'some', 'incredible', 'sights,', 'which', 'he', 'could', 'not', 'have', 'imagined', 'in', 'his', 'simple', 'homeland.', 'But', 'nothing', 'could', 'have', 'primed', 'him', 'for', 'the', 'sheer', 'spectacle', 'of', 'what', 'certainly', 'as', 'paradise.', 'Meluha', '.', 'The', 'land', 'of', 'pure', 'life!', 'he', 'mighty', 'Jhelum', 'river,', 'a', 'roaring', 'tigress', 'in', 'the', 'mountains,', 'slowed', 'down', 'to', 'the', 'beat', 'of', 'languorous', 'cow', 'as', 'she', 'entered', 'the', 'valley.', 'She', 'caressed', 'the', 'heavenly', 'land', 'of', 'ashmir,', 'meandering', 'her', 'way', 'into', 'the', 'immense', 'Dal', 'Lake.', 'Further', 'down,', 'she', 'broke', 'way', 'from', 'the', 'lake,', 'continuing', 'her', 'journey', 'to', 'the', 'sea.', 'he', 'vast', 'valley', 'was', 'covered', 'by', 'a', 'lush', 'green', 'canvas', 'of', 'grass.', 'On', 'it', 'was', 'painted', 'the', 'asterpiece', 'that', 'was', 'Kashmir.', 'Rows', 'upon', 'rows', 'of', 'flowers', 'arrayed', 'all', 'of', 'God’s', 'colours,', 'their', 'brilliance', 'broken', 'only', 'by', 'the', 'soaring', 'Chinar', 'trees,', 'offering', 'a', 'majestic,', 'yet', 'warm', 'Kashmiri', 'welcome.', 'The', 'melodious', 'singing', 'of', 'the', 'birds', 'calmed', 'the', 'exhausted', 'ears', 'of', 'Shiva’s', 'tribe,', 'accustomed', 'only', 'to', 'the', 'rude', 'howling', 'of', 'icy', 'mountain', 'winds.', '‘If', 'this', 'is', 'the', 'border', 'province,', 'how', 'perfect', 'must', 'the', 'rest', 'of', 'the', 'country', 'be?’', 'whispered', 'Shiva', 'in', 'awe.']\n"
     ]
    }
   ],
   "source": [
    "## Python Split\n",
    "w_split = file_content.split()\n",
    "print(w_split)"
   ]
  },
  {
   "cell_type": "code",
   "execution_count": 17,
   "metadata": {},
   "outputs": [
    {
     "name": "stdout",
     "output_type": "stream",
     "text": [
      "['After marching continuously for four weeks, the caravan of invited immigrants crested the final mountain to reach the outskirts of Srinagar, the capital of the valley of Kashmir', ' Nandi had talked excitedly about the glories of his perfect land', ' Shiva had prepared himself to see some incredible sights, which he could not have imagined in his simple homeland', ' But nothing could have primed him for the sheer spectacle of what certainly as paradise', ' Meluha ', ' The land of pure life! he mighty Jhelum river, a roaring tigress in the mountains, slowed down to the beat of  languorous cow as she entered the valley', ' She caressed the heavenly land of ashmir, meandering her way into the immense Dal Lake', ' \\n\\nFurther down, she broke way from the lake, continuing her journey to the sea', ' he vast valley was covered by a lush green canvas of grass', ' On it was painted the asterpiece that was Kashmir', ' Rows upon rows of flowers arrayed all of God’s colours, their brilliance broken only by the soaring Chinar trees, offering a majestic, yet warm Kashmiri welcome', ' The melodious singing of the birds calmed the exhausted ears of Shiva’s tribe, accustomed only to the rude howling of icy mountain winds', ' ‘If this is the border province, how perfect must the rest of the country be?’ whispered\\nShiva in awe', '']\n"
     ]
    }
   ],
   "source": [
    "## Python Split - Sentense Level\n",
    "s_split = file_content.split(\".\")\n",
    "print(s_split)"
   ]
  },
  {
   "cell_type": "code",
   "execution_count": 18,
   "metadata": {},
   "outputs": [
    {
     "name": "stdout",
     "output_type": "stream",
     "text": [
      "['After', 'marching', 'continuously', 'for', 'four', 'weeks,', 'the', 'caravan', 'of', 'invited', 'immigrants', 'crested', 'the', 'final', 'mountain', 'to', 'reach', 'the', 'outskirts', 'of', 'Srinagar,', 'the', 'capital', 'of', 'the', 'valley', 'of', 'Kashmir.', 'Nandi', 'had', 'talked', 'excitedly', 'about', 'the', 'glories', 'of', 'his', 'perfect', 'land.', 'Shiva', 'had', 'prepared', 'himself', 'to', 'see', 'some', 'incredible', 'sights,', 'which', 'he', 'could', 'not', 'have', 'imagined', 'in', 'his', 'simple', 'homeland.', 'But', 'nothing', 'could', 'have', 'primed', 'him', 'for', 'the', 'sheer', 'spectacle', 'of', 'what', 'certainly', 'as', 'paradise.', 'Meluha', '.', 'The', 'land', 'of', 'pure', 'life!', 'he', 'mighty', 'Jhelum', 'river,', 'a', 'roaring', 'tigress', 'in', 'the', 'mountains,', 'slowed', 'down', 'to', 'the', 'beat', 'of', '', 'languorous', 'cow', 'as', 'she', 'entered', 'the', 'valley.', 'She', 'caressed', 'the', 'heavenly', 'land', 'of', 'ashmir,', 'meandering', 'her', 'way', 'into', 'the', 'immense', 'Dal', 'Lake.', '\\n\\nFurther', 'down,', 'she', 'broke', 'way', 'from', 'the', 'lake,', 'continuing', 'her', 'journey', 'to', 'the', 'sea.', 'he', 'vast', 'valley', 'was', 'covered', 'by', 'a', 'lush', 'green', 'canvas', 'of', 'grass.', 'On', 'it', 'was', 'painted', 'the', 'asterpiece', 'that', 'was', 'Kashmir.', 'Rows', 'upon', 'rows', 'of', 'flowers', 'arrayed', 'all', 'of', 'God’s', 'colours,', 'their', 'brilliance', 'broken', 'only', 'by', 'the', 'soaring', 'Chinar', 'trees,', 'offering', 'a', 'majestic,', 'yet', 'warm', 'Kashmiri', 'welcome.', 'The', 'melodious', 'singing', 'of', 'the', 'birds', 'calmed', 'the', 'exhausted', 'ears', 'of', 'Shiva’s', 'tribe,', 'accustomed', 'only', 'to', 'the', 'rude', 'howling', 'of', 'icy', 'mountain', 'winds.', '‘If', 'this', 'is', 'the', 'border', 'province,', 'how', 'perfect', 'must', 'the', 'rest', 'of', 'the', 'country', 'be?’', 'whispered\\nShiva', 'in', 'awe.']\n"
     ]
    }
   ],
   "source": [
    "## Python Regular Expression\n",
    "import re\n",
    "\n",
    "x = re.split(\" \", file_content)\n",
    "print(x)"
   ]
  },
  {
   "cell_type": "code",
   "execution_count": null,
   "metadata": {},
   "outputs": [],
   "source": []
  }
 ],
 "metadata": {
  "kernelspec": {
   "display_name": "Python 3",
   "language": "python",
   "name": "python3"
  },
  "language_info": {
   "codemirror_mode": {
    "name": "ipython",
    "version": 3
   },
   "file_extension": ".py",
   "mimetype": "text/x-python",
   "name": "python",
   "nbconvert_exporter": "python",
   "pygments_lexer": "ipython3",
   "version": "3.6.9"
  }
 },
 "nbformat": 4,
 "nbformat_minor": 4
}
